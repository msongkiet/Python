{
 "cells": [
  {
   "cell_type": "code",
   "execution_count": 13,
   "metadata": {},
   "outputs": [
    {
     "name": "stdout",
     "output_type": "stream",
     "text": [
      "Starting Portfolio Value: 10000.000000\n",
      "Final Portfolio Value: 34567.000000\n",
      "PnL: 24567.00\n"
     ]
    }
   ],
   "source": [
    "import datetime\n",
    "import backtrader as bt\n",
    "from strategies import *\n",
    "\n",
    "class SmaCross(bt.SignalStrategy):\n",
    "    def __init__(self):\n",
    "        sma1 = bt.ind.SMA(period=20)\n",
    "        sma2 = bt.ind.SMA(period=50)\n",
    "        crossover = bt.ind.CrossOver(sma1, sma2)\n",
    "        self.signal_add(bt.SIGNAL_LONG, crossover)\n",
    "\t\t\n",
    "# Instantiate Cerebro engine\n",
    "cerebro = bt.Cerebro()\n",
    "\n",
    "# Set data parameters and add to Cerebro\n",
    "\n",
    "# data = bt.feeds.PandasData(dataname=)\n",
    "data = bt.feeds.YahooFinanceCSVData(\n",
    "    dataname='TSLA.csv',\n",
    "    fromdate=datetime.datetime(2013, 1, 1),\n",
    "    todate=datetime.datetime(2022, 12, 31),\n",
    ")\n",
    "# settings for out-of-sample data\n",
    "# fromdate=datetime.datetime(2018, 1, 1),\n",
    "# todate=datetime.datetime(2019, 12, 25))\n",
    "\n",
    "cerebro.adddata(data)\n",
    "\n",
    "# Add strategy to Cerebro\n",
    "cerebro.addstrategy(SmaCross)\n",
    "\n",
    "# Default position size\n",
    "cerebro.addsizer(bt.sizers.SizerFix, stake=100)\n",
    "# cerebro.run()\n",
    "# cerebro.plot()\n",
    "\n",
    "if __name__ == '__main__':\n",
    "    # Run Cerebro Engine\n",
    "    start_portfolio_value = cerebro.broker.getvalue()\n",
    "\n",
    "    cerebro.run()\n",
    "    # cerebro.plot()\n",
    "\n",
    "    end_portfolio_value = cerebro.broker.getvalue()\n",
    "    pnl = end_portfolio_value - start_portfolio_value\n",
    "    print(f'Starting Portfolio Value: {start_portfolio_value:2f}')\n",
    "    print(f'Final Portfolio Value: {end_portfolio_value:2f}')\n",
    "    print(f'PnL: {pnl:.2f}')"
   ]
  },
  {
   "cell_type": "code",
   "execution_count": null,
   "metadata": {},
   "outputs": [],
   "source": []
  }
 ],
 "metadata": {
  "kernelspec": {
   "display_name": "base",
   "language": "python",
   "name": "python3"
  },
  "language_info": {
   "codemirror_mode": {
    "name": "ipython",
    "version": 3
   },
   "file_extension": ".py",
   "mimetype": "text/x-python",
   "name": "python",
   "nbconvert_exporter": "python",
   "pygments_lexer": "ipython3",
   "version": "3.10.9"
  },
  "orig_nbformat": 4
 },
 "nbformat": 4,
 "nbformat_minor": 2
}
