{
 "cells": [
  {
   "attachments": {},
   "cell_type": "markdown",
   "id": "ffbf89ac",
   "metadata": {},
   "source": [
    "Download SET history price for Amibroker"
   ]
  },
  {
   "cell_type": "code",
   "execution_count": null,
   "id": "bba6d384",
   "metadata": {},
   "outputs": [],
   "source": [
    "# import library\n",
    "import pandas as pd\n",
    "import numpy as np\n",
    "from tqdm import tqdm\n",
    "import yfinance as yf\n",
    "\n",
    "import warnings\n",
    "warnings.filterwarnings('ignore')\n",
    "\n",
    "# import date library\n",
    "from datetime import date\n",
    "today = date.today().strftime(\"%m_%d_%y\")\n",
    "\n",
    "print('pandas v.',pd.__version__,\n",
    "      '\\numpy v.',np.__version__,\n",
    "      '\\nyfinace v.',yf.__version__)"
   ]
  },
  {
   "cell_type": "code",
   "execution_count": null,
   "id": "a66d74e0",
   "metadata": {},
   "outputs": [],
   "source": [
    "# read SET symbol\n",
    "df_symbol = pd.read_csv('Symbol_SET.csv')\n",
    "tickers = df_symbol[df_symbol['Symbol'].str.contains('-R.BK') == False].reset_index(drop=True)\n",
    "tickers.head()"
   ]
  },
  {
   "cell_type": "code",
   "execution_count": null,
   "id": "9a1a75b0",
   "metadata": {},
   "outputs": [],
   "source": [
    "# ticker: equity symbol in yahoo finance\n",
    "# periods: 1d,5d,1mo,3mo,6mo,1y,2y,5y,10y,ytd,max (time period)\n",
    "# interval: 1m,2m,5m,15m,30m,60m,90m,1h,1d,5d,1wk,1mo,3mo (trading interval)\n",
    "# fetch data by interval (including intraday if period < 60 days)\n",
    "# valid intervals: 1m,2m,5m,15m,30m,60m,90m,1h,1d,5d,1wk,1mo,3mo\n",
    "\n",
    "period = 'max'\n",
    "interval = '1d'\n",
    "\n",
    "for ticker in tqdm(tickers['Symbol'][:]):\n",
    "    df = yf.download(tickers = ticker, period = period, interval = interval)\n",
    "    symbol = ticker.split(\".\")[0]\n",
    "    df['Symbol'] = symbol\n",
    "    df.to_csv(f'D://New folder//{symbol}.csv')\n"
   ]
  },
  {
   "cell_type": "code",
   "execution_count": null,
   "id": "8207047f",
   "metadata": {},
   "outputs": [],
   "source": []
  }
 ],
 "metadata": {
  "kernelspec": {
   "display_name": "Python 3 (ipykernel)",
   "language": "python",
   "name": "python3"
  },
  "language_info": {
   "codemirror_mode": {
    "name": "ipython",
    "version": 3
   },
   "file_extension": ".py",
   "mimetype": "text/x-python",
   "name": "python",
   "nbconvert_exporter": "python",
   "pygments_lexer": "ipython3",
   "version": "3.10.9"
  }
 },
 "nbformat": 4,
 "nbformat_minor": 5
}
