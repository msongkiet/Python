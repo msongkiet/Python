{
 "cells": [
  {
   "cell_type": "code",
   "execution_count": 9,
   "id": "2218b40f",
   "metadata": {},
   "outputs": [],
   "source": [
    "from selenium import webdriver\n",
    "from selenium.webdriver.common.by import By\n",
    "from selenium.webdriver.support.ui import WebDriverWait\n",
    "from selenium.webdriver.support import expected_conditions as EC\n",
    "\n",
    "from selenium.webdriver.chrome.service import Service\n",
    "from webdriver_manager.chrome import ChromeDriverManager\n",
    "\n",
    "import time\n",
    "\n",
    "import requests\n",
    "\n",
    "# import tkinter as tk"
   ]
  },
  {
   "cell_type": "code",
   "execution_count": 10,
   "id": "6bd4e817",
   "metadata": {},
   "outputs": [],
   "source": [
    "driver = webdriver.Chrome(service=Service(\"C:\\\\chromedriver_win32\\\\chromedriver.exe\"))\n",
    "driver.quit()\n",
    "\n",
    "class MyDriver(object):\n",
    "    def __init__(self, driver, default_timeout=2):\n",
    "        self.driver = driver\n",
    "        self.timeout = default_timeout\n",
    "\n",
    "    def find_element(self, locator):\n",
    "        return WebDriverWait(self.driver, self.timeout).until(EC.presence_of_element_located(locator))\n",
    "\n",
    "mydriver = MyDriver(driver)"
   ]
  },
  {
   "cell_type": "code",
   "execution_count": 11,
   "id": "ec779da1",
   "metadata": {},
   "outputs": [],
   "source": [
    "# window = tk.Tk()"
   ]
  },
  {
   "cell_type": "code",
   "execution_count": null,
   "id": "58ba56a9",
   "metadata": {},
   "outputs": [],
   "source": []
  },
  {
   "cell_type": "code",
   "execution_count": 15,
   "id": "9b827cfc",
   "metadata": {
    "scrolled": true
   },
   "outputs": [
    {
     "name": "stdout",
     "output_type": "stream",
     "text": [
      "302\n",
      "302\n",
      "302\n",
      "302\n",
      "302\n",
      "302\n",
      "302\n",
      "302\n",
      "302\n",
      "302\n",
      "302\n",
      "302\n",
      "302\n",
      "302\n",
      "302\n",
      "302\n",
      "302\n",
      "302\n",
      "302\n",
      "302\n",
      "302\n",
      "302\n",
      "302\n"
     ]
    },
    {
     "ename": "KeyboardInterrupt",
     "evalue": "",
     "output_type": "error",
     "traceback": [
      "\u001b[1;31m---------------------------------------------------------------------------\u001b[0m",
      "\u001b[1;31mKeyboardInterrupt\u001b[0m                         Traceback (most recent call last)",
      "Input \u001b[1;32mIn [15]\u001b[0m, in \u001b[0;36m<cell line: 18>\u001b[1;34m()\u001b[0m\n\u001b[0;32m     22\u001b[0m status_code \u001b[38;5;241m=\u001b[39m request_response\u001b[38;5;241m.\u001b[39mstatus_code\n\u001b[0;32m     23\u001b[0m \u001b[38;5;28;01mwhile\u001b[39;00m (status_code \u001b[38;5;241m!=\u001b[39m \u001b[38;5;241m200\u001b[39m):\n\u001b[1;32m---> 24\u001b[0m     \u001b[43mtime\u001b[49m\u001b[38;5;241;43m.\u001b[39;49m\u001b[43msleep\u001b[49m\u001b[43m(\u001b[49m\u001b[38;5;241;43m2\u001b[39;49m\u001b[43m)\u001b[49m  \u001b[38;5;66;03m# secound\u001b[39;00m\n\u001b[0;32m     25\u001b[0m     status_code \u001b[38;5;241m=\u001b[39m request_response\u001b[38;5;241m.\u001b[39mstatus_code\n\u001b[0;32m     26\u001b[0m     \u001b[38;5;28mprint\u001b[39m(status_code)\n",
      "\u001b[1;31mKeyboardInterrupt\u001b[0m: "
     ]
    }
   ],
   "source": [
    "mydriver=webdriver.Chrome(service=Service(\"C:\\\\chromedriver_win32\\\\chromedriver.exe\"))\n",
    "mydriver.maximize_window()\n",
    "\n",
    "# index variable\n",
    "i = 0\n",
    "\n",
    "# initial url variable\n",
    "url = \"https://www.lotto.ktbnetbank.com/\"\n",
    "get_url = \"https://www3.lotto.ktbnetbank.com/\"  # initial url as fail_url \n",
    "fail_url = \"https://www3.lotto.ktbnetbank.com/\"\n",
    "login_url = \"https://www.lotto.ktbnetbank.com/KTBLotto/#/login\"\n",
    "\n",
    "# while (get_url != login_url):\n",
    "# driver.get(\"https://www.google.com/search?q=\"+SEARCH QUERY)\n",
    "# while (True):\n",
    "#     mydriver.get(f'https://www.google.com/search?q={i}')\n",
    "\n",
    "while (get_url == fail_url):\n",
    "    mydriver.get(url)\n",
    "    \n",
    "    request_response = requests.head(url)\n",
    "    status_code = request_response.status_code\n",
    "    while (status_code != 200 or status_code != 302):\n",
    "        time.sleep(2)  # secound\n",
    "        status_code = request_response.status_code\n",
    "        print(status_code)\n",
    "   \n",
    "    get_url = mydriver.current_url\n",
    "    i = i + 1\n",
    "    print(f'{i} The current url is: {str(get_url)}')\n",
    "\n",
    "print(\"COMPLETED\")"
   ]
  },
  {
   "cell_type": "code",
   "execution_count": null,
   "id": "58aba0e1",
   "metadata": {},
   "outputs": [],
   "source": []
  },
  {
   "cell_type": "code",
   "execution_count": null,
   "id": "f3316907",
   "metadata": {},
   "outputs": [],
   "source": []
  }
 ],
 "metadata": {
  "kernelspec": {
   "display_name": "Python 3 (ipykernel)",
   "language": "python",
   "name": "python3"
  },
  "language_info": {
   "codemirror_mode": {
    "name": "ipython",
    "version": 3
   },
   "file_extension": ".py",
   "mimetype": "text/x-python",
   "name": "python",
   "nbconvert_exporter": "python",
   "pygments_lexer": "ipython3",
   "version": "3.9.12"
  }
 },
 "nbformat": 4,
 "nbformat_minor": 5
}
