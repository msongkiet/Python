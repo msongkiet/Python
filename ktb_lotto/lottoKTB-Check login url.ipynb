{
 "cells": [
  {
   "cell_type": "code",
   "execution_count": 1,
   "id": "2218b40f",
   "metadata": {},
   "outputs": [],
   "source": [
    "from selenium import webdriver\n",
    "from selenium.webdriver.common.by import By\n",
    "from selenium.webdriver.support.ui import WebDriverWait\n",
    "from selenium.webdriver.support import expected_conditions as EC\n",
    "\n",
    "from selenium.webdriver.chrome.service import Service\n",
    "from webdriver_manager.chrome import ChromeDriverManager\n",
    "\n",
    "import time\n",
    "\n",
    "import requests\n",
    "\n",
    "# import tkinter as tk"
   ]
  },
  {
   "cell_type": "code",
   "execution_count": 2,
   "id": "6bd4e817",
   "metadata": {},
   "outputs": [],
   "source": [
    "driver = webdriver.Chrome(service=Service(\"C:\\\\chromedriver_win32\\\\chromedriver.exe\"))\n",
    "driver.quit()\n",
    "\n",
    "class MyDriver(object):\n",
    "    def __init__(self, driver, default_timeout=2):\n",
    "        self.driver = driver\n",
    "        self.timeout = default_timeout\n",
    "\n",
    "    def find_element(self, locator):\n",
    "        return WebDriverWait(self.driver, self.timeout).until(EC.presence_of_element_located(locator))\n",
    "\n",
    "mydriver = MyDriver(driver)"
   ]
  },
  {
   "cell_type": "code",
   "execution_count": 3,
   "id": "ec779da1",
   "metadata": {},
   "outputs": [],
   "source": [
    "# window = tk.Tk()"
   ]
  },
  {
   "cell_type": "code",
   "execution_count": null,
   "id": "58ba56a9",
   "metadata": {},
   "outputs": [],
   "source": []
  },
  {
   "cell_type": "code",
   "execution_count": null,
   "id": "9b827cfc",
   "metadata": {
    "scrolled": true
   },
   "outputs": [
    {
     "name": "stdout",
     "output_type": "stream",
     "text": [
      "1 The current url is: https://www3.lotto.ktbnetbank.com/ - status\n",
      "2 The current url is: https://www3.lotto.ktbnetbank.com/ - status\n",
      "3 The current url is: https://www3.lotto.ktbnetbank.com/ - status\n"
     ]
    }
   ],
   "source": [
    "mydriver=webdriver.Chrome(service=Service(\"C:\\\\chromedriver_win32\\\\chromedriver.exe\"))\n",
    "mydriver.maximize_window()\n",
    "\n",
    "# index variable\n",
    "i = 0\n",
    "\n",
    "# initial url variable\n",
    "url = \"https://www.lotto.ktbnetbank.com/\"\n",
    "get_url = \"https://www3.lotto.ktbnetbank.com/\"  # initial url as fail_url \n",
    "fail_url = \"https://www3.lotto.ktbnetbank.com/\"\n",
    "login_url = \"https://www.lotto.ktbnetbank.com/KTBLotto/#/login\"\n",
    "\n",
    "# while (get_url != login_url):\n",
    "# driver.get(\"https://www.google.com/search?q=\"+SEARCH QUERY)\n",
    "# while (True):\n",
    "#     mydriver.get(f'https://www.google.com/search?q={i}')\n",
    "\n",
    "while (get_url != login_url):\n",
    "#     mydriver.get('https://www.google.com/')\n",
    "    mydriver.get(url)\n",
    "    while (mydriver.current_url == url):\n",
    "        print(\".\")\n",
    "#     print(url)\n",
    "#     request_response = requests.head(url)\n",
    "#     status_code = request_response.status_code\n",
    "#     if(status_code == 200):\n",
    "    get_url = mydriver.current_url   \n",
    "    time.sleep(1)\n",
    "    i = i + 1\n",
    "    print(f'{i} The current url is: {str(get_url)} - status')\n",
    "\n",
    "print(\"COMPLETED\")"
   ]
  },
  {
   "cell_type": "code",
   "execution_count": null,
   "id": "58aba0e1",
   "metadata": {},
   "outputs": [],
   "source": [
    "# /html/body/div/div[2]/span\n",
    "# <span class=\"fontlarge\">ขออภัยในความไม่สะดวก</span>\n",
    "\n",
    "# /html/body/div/div[2]/span\n",
    "# <span class=\"fontlarge\">ขออภัย</span>"
   ]
  },
  {
   "cell_type": "code",
   "execution_count": null,
   "id": "f3316907",
   "metadata": {},
   "outputs": [],
   "source": []
  }
 ],
 "metadata": {
  "kernelspec": {
   "display_name": "Python 3 (ipykernel)",
   "language": "python",
   "name": "python3"
  },
  "language_info": {
   "codemirror_mode": {
    "name": "ipython",
    "version": 3
   },
   "file_extension": ".py",
   "mimetype": "text/x-python",
   "name": "python",
   "nbconvert_exporter": "python",
   "pygments_lexer": "ipython3",
   "version": "3.9.12"
  }
 },
 "nbformat": 4,
 "nbformat_minor": 5
}
