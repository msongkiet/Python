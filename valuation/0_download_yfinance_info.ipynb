{
 "cells": [
  {
   "cell_type": "code",
   "execution_count": 29,
   "id": "664a99bd-f1d8-4cb5-a483-a159de7788d7",
   "metadata": {},
   "outputs": [],
   "source": [
    "import yfinance as yf\n",
    "import pandas as pd"
   ]
  },
  {
   "cell_type": "code",
   "execution_count": 30,
   "id": "87082f26-6613-4868-b1bb-d8c63a6e49d8",
   "metadata": {},
   "outputs": [],
   "source": [
    "stockTicker = pd.read_excel(\"tickers.xlsx\", header=0, sheet_name=\"All SET\")\n",
    "stockTicker = stockTicker[\"ticker\"].values.tolist()"
   ]
  },
  {
   "cell_type": "code",
   "execution_count": null,
   "id": "583c9900-6636-430d-bb12-a73fbd6ae314",
   "metadata": {},
   "outputs": [],
   "source": []
  },
  {
   "cell_type": "code",
   "execution_count": 8,
   "id": "f94e22e2-0e60-44bd-baac-c433b5355356",
   "metadata": {},
   "outputs": [],
   "source": [
    "m = len(stockTicker)\n",
    "n = 50;\n",
    "p = math.ceil(m/n)\n",
    "\n",
    "for i in range(9,p):\n",
    "    df = pd.DataFrame()\n",
    "    dfInfo = pd.DataFrame()\n",
    "    \n",
    "    for j in range(0,n):\n",
    "        q = i*n + j\n",
    "        \n",
    "        if q < m:\n",
    "            try:\n",
    "                # info = yf.Ticker(f'{stockTicker[q]}.BK').info\n",
    "                price = yf.Ticker(f'{stockTicker[q]}.BK').history(period=\"max\")\n",
    "                # print(info)\n",
    "                # df = df.from_dict(info, orient='index')\n",
    "                # dfInfo = dfInfo.append(df.T, ignore_index=True)\n",
    "                # print(dfInfo)\n",
    "                print(f'{i} {q} {stockTicker[q]} completed')\n",
    "        \n",
    "            except Exception as e:\n",
    "                print(f'{stockTicker[q]} - {e}')\n",
    "        else:\n",
    "            break\n",
    "    print(price)\n",
    "    dfInfo.to_pickle(f'pkl/Info_{i}.pkl')"
   ]
  },
  {
   "cell_type": "code",
   "execution_count": 5,
   "id": "2eb31c27-c685-4da6-b59a-bedf1accdf76",
   "metadata": {},
   "outputs": [],
   "source": [
    "from datetime import datetime\n",
    "import os\n",
    "import glob"
   ]
  },
  {
   "cell_type": "code",
   "execution_count": 6,
   "id": "692f9ef5-39fd-41b3-ba11-f555b0ca201d",
   "metadata": {},
   "outputs": [],
   "source": [
    "path = os.getcwd()\n",
    "pkl_Info_files = glob.glob(path + \"/pkl/Info*.pkl\")"
   ]
  },
  {
   "cell_type": "code",
   "execution_count": 7,
   "id": "b98e8433-83a8-4a9a-9e22-82d3f1621a2f",
   "metadata": {},
   "outputs": [],
   "source": [
    "def combineDF(filePaths):\n",
    "    dt_string = datetime.now().strftime(\"%Y%m%d_%H%M%S\")\n",
    "    fileName = filePaths[0].split('\\\\')[-1]\n",
    "    fileName = fileName.split(\"_\")[0]\n",
    "    \n",
    "    df1 = pd.DataFrame()\n",
    "    \n",
    "    for filename in filePaths:\n",
    "        df = pd.read_pickle(filename)\n",
    "        df1 = df1.append(df)\n",
    "\n",
    "    df1.drop_duplicates\n",
    "    df1.to_pickle(f'{fileName}_{dt_string}.pkl')\n"
   ]
  },
  {
   "cell_type": "code",
   "execution_count": 8,
   "id": "84ae2f3f-a3d8-4cee-8b2b-e295b1399923",
   "metadata": {},
   "outputs": [],
   "source": [
    "combineDF(pkl_Info_files)"
   ]
  },
  {
   "cell_type": "code",
   "execution_count": null,
   "id": "c6962a90-d4e1-4a57-932b-8d1b45545f5e",
   "metadata": {},
   "outputs": [],
   "source": []
  }
 ],
 "metadata": {
  "kernelspec": {
   "display_name": "base",
   "language": "python",
   "name": "python3"
  },
  "language_info": {
   "codemirror_mode": {
    "name": "ipython",
    "version": 3
   },
   "file_extension": ".py",
   "mimetype": "text/x-python",
   "name": "python",
   "nbconvert_exporter": "python",
   "pygments_lexer": "ipython3",
   "version": "3.10.9"
  },
  "vscode": {
   "interpreter": {
    "hash": "bbd68cb4c33f6bce627b84da08f98fda8c4b9311607d68391d1df9651b686123"
   }
  }
 },
 "nbformat": 4,
 "nbformat_minor": 5
}
