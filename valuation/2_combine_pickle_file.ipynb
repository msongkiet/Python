{
 "cells": [
  {
   "cell_type": "code",
   "execution_count": 1,
   "id": "67bce283-6424-463d-be8b-1b109563d5fa",
   "metadata": {},
   "outputs": [],
   "source": [
    "import pandas as pd\n",
    "from datetime import datetime\n",
    "import os\n",
    "import glob"
   ]
  },
  {
   "cell_type": "code",
   "execution_count": 2,
   "id": "40ccfde9-82df-47e2-9d7f-37f9ef34d004",
   "metadata": {},
   "outputs": [],
   "source": [
    "path = os.getcwd()\n",
    "pkl_BalanceSheet_files = glob.glob(path + \"/pkl/BalanceSheet*.pkl\")\n",
    "pkl_CashFlow_files = glob.glob(path + \"/pkl/CashFlow*.pkl\")\n",
    "pkl_Earnings_files = glob.glob(path + \"/pkl/Earnings*.pkl\")\n",
    "pkl_Financials_files = glob.glob(path + \"/pkl/Financials*.pkl\")\n",
    "\n",
    "# pkl_QuarterlyBalanceSheet_files = glob.glob(path + \"/pkl/QuarterlyBalanceSheet*.pkl\")\n",
    "# pkl_QuarterlyCashFlow_files = glob.glob(path + \"/pkl/QuarterlyCashFlow*.pkl\")\n",
    "# pkl_QuarterlyEarnings_files = glob.glob(path + \"/pkl/QuarterlyEarnings*.pkl\")\n",
    "# pkl_QuarterlyFinancials_files = glob.glob(path + \"/pkl/QuarterlyFinancials*.pkl\")\n"
   ]
  },
  {
   "cell_type": "code",
   "execution_count": 3,
   "id": "6c5ca56e-0d5c-467a-8f41-c5dee84763f3",
   "metadata": {},
   "outputs": [],
   "source": [
    "# pkl_BalanceSheet_files\n",
    "# pkl_CashFlow_files\n",
    "# pkl_Earnings_files\n",
    "# pkl_Financials_files\n",
    "\n",
    "# pkl_QuarterlyBalanceSheet_files\n",
    "# pkl_QuarterlyCashFlow_files\n",
    "# pkl_QuarterlyEarnings_files\n",
    "# pkl_QuarterlyFinancials_files"
   ]
  },
  {
   "cell_type": "code",
   "execution_count": 4,
   "id": "158b7de6-728e-4b82-b9b4-f4a20bcaae7d",
   "metadata": {},
   "outputs": [],
   "source": [
    "def combineDF(filePaths):\n",
    "    dt_string = datetime.now().strftime(\"%Y%m%d_%H%M%S\")\n",
    "    fileName = filePaths[0].split('\\\\')[-1]\n",
    "    fileName = fileName.split(\"_\")[0]\n",
    "    \n",
    "    df1 = pd.DataFrame()\n",
    "    \n",
    "    for filename in filePaths:\n",
    "        df = pd.read_pickle(filename)\n",
    "        df1 = df1.append(df)\n",
    "\n",
    "    df1.drop_duplicates\n",
    "    df1.to_pickle(f'SnP500_{fileName}_{dt_string}.pkl')\n"
   ]
  },
  {
   "cell_type": "code",
   "execution_count": 5,
   "id": "e651c279-a53a-4a26-9cea-516cda524d25",
   "metadata": {},
   "outputs": [],
   "source": [
    "combineDF(pkl_BalanceSheet_files)\n",
    "combineDF(pkl_CashFlow_files)\n",
    "combineDF(pkl_Earnings_files)\n",
    "combineDF(pkl_Financials_files)\n",
    "\n",
    "# combineDF(pkl_QuarterlyBalanceSheet_files)\n",
    "# combineDF(pkl_QuarterlyCashFlow_files)\n",
    "# combineDF(pkl_QuarterlyEarnings_files)\n",
    "# combineDF(pkl_QuarterlyFinancials_files)"
   ]
  },
  {
   "cell_type": "code",
   "execution_count": null,
   "id": "863b744b-e512-4e79-9fd0-f68aff06c3d6",
   "metadata": {},
   "outputs": [],
   "source": []
  },
  {
   "cell_type": "code",
   "execution_count": null,
   "id": "59ffe64a-5423-4c7a-96d7-328e6e8b9362",
   "metadata": {},
   "outputs": [],
   "source": []
  }
 ],
 "metadata": {
  "kernelspec": {
   "display_name": "Python 3 (ipykernel)",
   "language": "python",
   "name": "python3"
  },
  "language_info": {
   "codemirror_mode": {
    "name": "ipython",
    "version": 3
   },
   "file_extension": ".py",
   "mimetype": "text/x-python",
   "name": "python",
   "nbconvert_exporter": "python",
   "pygments_lexer": "ipython3",
   "version": "3.9.7"
  }
 },
 "nbformat": 4,
 "nbformat_minor": 5
}
